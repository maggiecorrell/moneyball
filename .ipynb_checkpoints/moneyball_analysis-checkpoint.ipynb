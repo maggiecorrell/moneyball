{
 "cells": [
  {
   "cell_type": "code",
   "execution_count": 1,
   "metadata": {
    "collapsed": true
   },
   "outputs": [],
   "source": [
    "import pandas as pd"
   ]
  },
  {
   "cell_type": "markdown",
   "metadata": {},
   "source": [
    "# Moneyball"
   ]
  },
  {
   "cell_type": "markdown",
   "metadata": {
    "collapsed": false
   },
   "source": [
    "## Get player data"
   ]
  },
  {
   "cell_type": "code",
   "execution_count": 2,
   "metadata": {
    "collapsed": false
   },
   "outputs": [],
   "source": [
    "player_data = pd.read_csv('baseballdatabank-master/core/Master.csv', sep=',', usecols = [0, 13, 14])"
   ]
  },
  {
   "cell_type": "code",
   "execution_count": 4,
   "metadata": {
    "collapsed": false
   },
   "outputs": [],
   "source": [
    "batting_data = pd.read_csv('baseballdatabank-master/core/Batting.csv', sep=',', usecols=[0, 1, 5, 6, 8, 11, 15, 18, 20]).fillna(value=0)"
   ]
  },
  {
   "cell_type": "code",
   "execution_count": 6,
   "metadata": {
    "collapsed": false
   },
   "outputs": [],
   "source": [
    "position_data = pd.read_csv('baseballdatabank-master/core/Appearances.csv', sep=',', usecols=[0, 3, 8, 9, 10, 11, 12, 13, 14, 15, 16])"
   ]
  },
  {
   "cell_type": "code",
   "execution_count": 8,
   "metadata": {
    "collapsed": false
   },
   "outputs": [],
   "source": [
    "salary_data = pd.read_csv('baseballdatabank-master/core/Salaries.csv', sep=',', usecols= [0, 3, 4])"
   ]
  },
  {
   "cell_type": "markdown",
   "metadata": {
    "collapsed": false
   },
   "source": [
    "## Merge data"
   ]
  },
  {
   "cell_type": "code",
   "execution_count": 10,
   "metadata": {
    "collapsed": false
   },
   "outputs": [],
   "source": [
    "add_position = batting_data.merge(position_data, on=['playerID', 'yearID'])"
   ]
  },
  {
   "cell_type": "code",
   "execution_count": 12,
   "metadata": {
    "collapsed": false
   },
   "outputs": [],
   "source": [
    "complete_data = add_position.merge(salary_data, on=['playerID', 'yearID'])"
   ]
  },
  {
   "cell_type": "markdown",
   "metadata": {
    "collapsed": false,
    "scrolled": true
   },
   "source": [
    "## On base percentage (OBP)"
   ]
  },
  {
   "cell_type": "code",
   "execution_count": 14,
   "metadata": {
    "collapsed": false
   },
   "outputs": [],
   "source": [
    "complete_data['OBP']= (complete_data['BB'] + complete_data['H'] + complete_data['HBP'])/(complete_data['AB'] + complete_data['BB'] + complete_data['HBP'] + complete_data['SF'])"
   ]
  },
  {
   "cell_type": "markdown",
   "metadata": {
    "collapsed": false,
    "scrolled": true
   },
   "source": [
    "## OBP per dollar"
   ]
  },
  {
   "cell_type": "code",
   "execution_count": 16,
   "metadata": {
    "collapsed": false
   },
   "outputs": [],
   "source": [
    "complete_data['OBP per dollar'] = complete_data['OBP'] / complete_data['salary']"
   ]
  },
  {
   "cell_type": "markdown",
   "metadata": {
    "collapsed": false,
    "scrolled": true
   },
   "source": [
    "## Narrow Players "
   ]
  },
  {
   "cell_type": "code",
   "execution_count": 34,
   "metadata": {
    "collapsed": false
   },
   "outputs": [],
   "source": [
    "complete_data = complete_data[complete_data['salary'] > 0]\n",
    "complete_data = complete_data[complete_data['yearID'] > 2013]\n",
    "complete_data = complete_data[complete_data['G'] > 20]"
   ]
  },
  {
   "cell_type": "markdown",
   "metadata": {
    "collapsed": false,
    "scrolled": true
   },
   "source": [
    "## Get the best players for each position"
   ]
  },
  {
   "cell_type": "code",
   "execution_count": 36,
   "metadata": {
    "collapsed": false
   },
   "outputs": [],
   "source": [
    "def get_best_players(df):\n",
    "    player_list = ['G_p', 'G_c', 'G_1b', 'G_2b', 'G_3b', 'G_ss', 'G_lf', 'G_cf', 'G_rf']\n",
    "    best_player = []\n",
    "    for item in player_list:\n",
    "        if item == 'G_p':\n",
    "            best_player.append(df[(df['G_p'] > 20)].sort(['OBP per dollar'], ascending=False)[:1])\n",
    "        else:\n",
    "            best_player.append(df[df[item] > 40].sort(['OBP per dollar'], ascending=False)[:1])\n",
    "    return best_player"
   ]
  },
  {
   "cell_type": "code",
   "execution_count": 38,
   "metadata": {
    "collapsed": false
   },
   "outputs": [
    {
     "name": "stderr",
     "output_type": "stream",
     "text": [
      "/Users/maggiecorrell/moneyball/.direnv/python-3.5.1/lib/python3.5/site-packages/ipykernel/__main__.py:6: FutureWarning: sort(columns=....) is deprecated, use sort_values(by=.....)\n",
      "/Users/maggiecorrell/moneyball/.direnv/python-3.5.1/lib/python3.5/site-packages/ipykernel/__main__.py:8: FutureWarning: sort(columns=....) is deprecated, use sort_values(by=.....)\n"
     ]
    }
   ],
   "source": [
    "best_player = get_best_players(complete_data)"
   ]
  },
  {
   "cell_type": "code",
   "execution_count": 39,
   "metadata": {
    "collapsed": true
   },
   "outputs": [],
   "source": [
    "best_players = pd.concat(best_player)"
   ]
  },
  {
   "cell_type": "code",
   "execution_count": 44,
   "metadata": {
    "collapsed": false
   },
   "outputs": [
    {
     "data": {
      "text/html": [
       "<div>\n",
       "<table border=\"1\" class=\"dataframe\">\n",
       "  <thead>\n",
       "    <tr style=\"text-align: right;\">\n",
       "      <th></th>\n",
       "      <th>playerID</th>\n",
       "      <th>yearID</th>\n",
       "      <th>salary</th>\n",
       "    </tr>\n",
       "  </thead>\n",
       "  <tbody>\n",
       "    <tr>\n",
       "      <th>30598</th>\n",
       "      <td>gomezje01</td>\n",
       "      <td>2014</td>\n",
       "      <td>514500</td>\n",
       "    </tr>\n",
       "    <tr>\n",
       "      <th>30868</th>\n",
       "      <td>norride01</td>\n",
       "      <td>2014</td>\n",
       "      <td>505000</td>\n",
       "    </tr>\n",
       "    <tr>\n",
       "      <th>32042</th>\n",
       "      <td>robincl01</td>\n",
       "      <td>2015</td>\n",
       "      <td>525000</td>\n",
       "    </tr>\n",
       "    <tr>\n",
       "      <th>31931</th>\n",
       "      <td>panikjo01</td>\n",
       "      <td>2015</td>\n",
       "      <td>522500</td>\n",
       "    </tr>\n",
       "    <tr>\n",
       "      <th>30513</th>\n",
       "      <td>donaljo02</td>\n",
       "      <td>2014</td>\n",
       "      <td>500000</td>\n",
       "    </tr>\n",
       "    <tr>\n",
       "      <th>31250</th>\n",
       "      <td>bogaexa01</td>\n",
       "      <td>2015</td>\n",
       "      <td>543000</td>\n",
       "    </tr>\n",
       "    <tr>\n",
       "      <th>30505</th>\n",
       "      <td>dickeco01</td>\n",
       "      <td>2014</td>\n",
       "      <td>500000</td>\n",
       "    </tr>\n",
       "    <tr>\n",
       "      <th>30528</th>\n",
       "      <td>eatonad02</td>\n",
       "      <td>2014</td>\n",
       "      <td>511000</td>\n",
       "    </tr>\n",
       "    <tr>\n",
       "      <th>32145</th>\n",
       "      <td>springe01</td>\n",
       "      <td>2015</td>\n",
       "      <td>512900</td>\n",
       "    </tr>\n",
       "  </tbody>\n",
       "</table>\n",
       "</div>"
      ],
      "text/plain": [
       "        playerID  yearID  salary\n",
       "30598  gomezje01    2014  514500\n",
       "30868  norride01    2014  505000\n",
       "32042  robincl01    2015  525000\n",
       "31931  panikjo01    2015  522500\n",
       "30513  donaljo02    2014  500000\n",
       "31250  bogaexa01    2015  543000\n",
       "30505  dickeco01    2014  500000\n",
       "30528  eatonad02    2014  511000\n",
       "32145  springe01    2015  512900"
      ]
     },
     "execution_count": 44,
     "metadata": {},
     "output_type": "execute_result"
    }
   ],
   "source": [
    "best_players[['playerID', 'yearID', 'salary']]"
   ]
  }
 ],
 "metadata": {
  "kernelspec": {
   "display_name": "Python 3",
   "language": "python",
   "name": "python3"
  },
  "language_info": {
   "codemirror_mode": {
    "name": "ipython",
    "version": 3
   },
   "file_extension": ".py",
   "mimetype": "text/x-python",
   "name": "python",
   "nbconvert_exporter": "python",
   "pygments_lexer": "ipython3",
   "version": "3.5.1"
  }
 },
 "nbformat": 4,
 "nbformat_minor": 0
}
